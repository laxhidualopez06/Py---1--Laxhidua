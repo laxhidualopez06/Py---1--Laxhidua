{
  "nbformat": 4,
  "nbformat_minor": 0,
  "metadata": {
    "colab": {
      "provenance": [],
      "authorship_tag": "ABX9TyNpUB4ZMzq9rVVt2VXvTLDq",
      "include_colab_link": true
    },
    "kernelspec": {
      "name": "python3",
      "display_name": "Python 3"
    },
    "language_info": {
      "name": "python"
    }
  },
  "cells": [
    {
      "cell_type": "markdown",
      "metadata": {
        "id": "view-in-github",
        "colab_type": "text"
      },
      "source": [
        "<a href=\"https://colab.research.google.com/github/laxhidualopez06/Py---1--Laxhidua/blob/main/Py_1_Aseret.ipynb\" target=\"_parent\"><img src=\"https://colab.research.google.com/assets/colab-badge.svg\" alt=\"Open In Colab\"/></a>"
      ]
    },
    {
      "cell_type": "code",
      "execution_count": null,
      "metadata": {
        "id": "6U2wTeCmDP_s"
      },
      "outputs": [],
      "source": [
        "# Serie del 1 al 100\n",
        "# Ciclo para contar de 1 en 1 en un rango de 1 a 100\n",
        "for i in range(1, 101):\n",
        "    print(i) #Imprime el conteo"
      ]
    },
    {
      "cell_type": "code",
      "source": [
        "# Serie del 1 al 100, solo pares\n",
        "# Ciclo para contar de 2 en 2 en un rango de 1 a 100, empezando por el dos\n",
        "for i in range(2, 101, 2):\n",
        "  print(i)"
      ],
      "metadata": {
        "id": "rK-g5HkjGwCO"
      },
      "execution_count": null,
      "outputs": []
    },
    {
      "cell_type": "code",
      "source": [
        "# Serie del 1 al 100 solo impares\n",
        "# Ciclo para contar de 2 en 2 en un rango de 1 a 100, empezando por el uno\n",
        "for i in range(1, 101, 2):\n",
        "  print(i)"
      ],
      "metadata": {
        "id": "zSftXZY_HOTv"
      },
      "execution_count": null,
      "outputs": []
    },
    {
      "cell_type": "code",
      "source": [
        "# Capturar cadena y transformar a mayúsculas\n",
        "# Solicitamos la cadena\n",
        "cadena = input(\"Introduce una cadena: \")\n",
        "# Imprime la cadena en mayúsculas con el método \"Upper\"\n",
        "print(cadena.upper())\n"
      ],
      "metadata": {
        "id": "RtqSkHc1JOEt"
      },
      "execution_count": null,
      "outputs": []
    }
  ]
}