{
  "nbformat": 4,
  "nbformat_minor": 0,
  "metadata": {
    "colab": {
      "provenance": [],
      "authorship_tag": "ABX9TyNqX9q0XtSSHwYPuDciZlDo",
      "include_colab_link": true
    },
    "kernelspec": {
      "name": "python3",
      "display_name": "Python 3"
    },
    "language_info": {
      "name": "python"
    }
  },
  "cells": [
    {
      "cell_type": "markdown",
      "metadata": {
        "id": "view-in-github",
        "colab_type": "text"
      },
      "source": [
        "<a href=\"https://colab.research.google.com/github/laxhidualopez06/Py---1--Laxhidua/blob/main/Py_2_Aseret.ipynb\" target=\"_parent\"><img src=\"https://colab.research.google.com/assets/colab-badge.svg\" alt=\"Open In Colab\"/></a>"
      ]
    },
    {
      "cell_type": "markdown",
      "source": [
        "**Práctica de Analítica de Datos: Tipos y Operaciones Básicas**"
      ],
      "metadata": {
        "id": "H8C4C2KFWXJD"
      }
    },
    {
      "cell_type": "markdown",
      "source": [
        "Objetivo: Consolidar el conocimiento sobre los tipos de datos (numéricos, cadenas, booleanos), y aplicar operaciones aritméticas, relacionales y lógicas para resolver problemas de análisis de datos sencillos.\n"
      ],
      "metadata": {
        "id": "tpi12gEcWQaj"
      }
    },
    {
      "cell_type": "code",
      "source": [
        "###### Parte 1. Tipos de datos ######\n",
        "\n",
        "# Define tres variables:\n",
        "# - Un número entero (int) con tu edad.\n",
        "edad: int = 19\n",
        "# - Un número decimal (float) con tu altura en metros.\n",
        "miAltura: float = 1.58\n",
        "# - Una cadena de texto (str) con tu nombre completo.\n",
        "nombre: str = \"Aseret\"\n",
        "# Pregunta: ¿qué función en Python permite conocer el tipo de dato de una variable? Úsala para mostrar los resultados.\n",
        "print(\"Tipo de dato de edad: \", type(edad))\n",
        "print(\"Tipo de dato de altura: \", type(miAltura))\n",
        "print(\"Tipo de dato de nombre: \", type(nombre))\n"
      ],
      "metadata": {
        "id": "CYihoAzYObLQ"
      },
      "execution_count": null,
      "outputs": []
    },
    {
      "cell_type": "code",
      "source": [
        "###### Parte 2. Operaciones aritméticas ######\n",
        "\n",
        "# Supón que compras 3 productos con precios: 125.50, 89.99 y 39.75.\n",
        "# - Calcula el total de la compra.\n",
        "totalCompra = 125.50 + 89.99 + 39.75\n",
        "\n",
        "# - Aplica un descuento del 15%.\n",
        "descuento = 0.15\n",
        "totalDescuento = totalCompra * (1 - descuento)\n",
        "# - Calcula el IVA del 16% sobre el precio con descuento.\n",
        "iva = 0.16\n",
        "totalIva = totalDescuento * (1 + iva)\n",
        "# - Obtén el total final a pagar.\n",
        "totalFinal = totalIva\n",
        "\n",
        "print(\"Total final a pagar: \",totalFinal)\n",
        "# ¿Qué operador usarías para obtener el residuo de dividir 125 entre 12?\n",
        "# Escríbelo y ejecútalo en código.\n",
        "residuo = 125 % 12\n",
        "print(\"El residuo de dividir 125/12 es: \",residuo)"
      ],
      "metadata": {
        "colab": {
          "base_uri": "https://localhost:8080/"
        },
        "id": "p5myVbaROW-B",
        "outputId": "44c08b21-230d-492d-dc2c-c42fc27d3a82"
      },
      "execution_count": 9,
      "outputs": [
        {
          "output_type": "stream",
          "name": "stdout",
          "text": [
            "Total final a pagar:  251.66664\n",
            "El residuo de dividir 125/12 es:  5\n"
          ]
        }
      ]
    },
    {
      "cell_type": "code",
      "source": [
        "###### Parte 3. Operaciones relacionales ######\n",
        "\n",
        "# Con los datos anteriores:\n",
        "# - Verifica si tu edad es mayor a 18.\n",
        "if edad > 18:\n",
        "    print(\"La edad es mayor a 18\")\n",
        "else:\n",
        "    print(\"La edad es menor a 18\")\n",
        "\n",
        "# - Comprueba si el precio más alto es mayor que 100.\n",
        "precios = [125.50, 89.99, 39.75]\n",
        "precio_maximo = max(precios)\n",
        "if precio_maximo > 100:\n",
        "    print(\"El precio más alto es mayor a 100\")\n",
        "else:\n",
        "    print(\"El precio más alto no es mayor a 100\")\n",
        "\n",
        "# - Evalúa si el total final de la compra es menor o igual a 200.\n",
        "if totalFinal <= 200:\n",
        "    print(\"El total final es menor o igual a 200\")\n",
        "else:\n",
        "    print(\"El total final es mayor a 200\")"
      ],
      "metadata": {
        "colab": {
          "base_uri": "https://localhost:8080/"
        },
        "id": "Nt_ajoeQORrC",
        "outputId": "405168c8-ea21-41ff-8d06-211a65b313b9"
      },
      "execution_count": null,
      "outputs": [
        {
          "output_type": "stream",
          "name": "stdout",
          "text": [
            "La edad es mayor a 18\n",
            "El precio más alto es mayor a 100\n",
            "El total final es mayor a 200\n"
          ]
        }
      ]
    },
    {
      "cell_type": "code",
      "source": [
        "###### Parte 4. Operaciones lógicas ######\n",
        "\n",
        "# Crea dos variables booleanas:\n",
        "# - pago_tarjeta = True\n",
        "pago_tarjeta = True\n",
        "# - tiene_descuento = False\n",
        "tiene_descuento = False\n",
        "# - Evalúa las siguientes expresiones:\n",
        "### - ¿El cliente pagó con tarjeta y tiene descuento?\n",
        "if pago_tarjeta and tiene_descuento:\n",
        "    print(\"El cliente pagó con tarjeta y tiene descuento\")\n",
        "else:\n",
        "    print(\"El cliente o no pagó con tarjeta o no tiene descuento\")\n",
        "\n",
        "### - ¿El cliente pagó con tarjeta o tiene descuento?\n",
        "if pago_tarjeta or tiene_descuento:\n",
        "    print(\"El cliente pagó con tarjeta o tiene descuento\")\n",
        "else:\n",
        "    print(\"El cliente no pagó con tarjeta ni tiene descuento\")\n",
        "\n",
        "### - ¿El cliente pagó con tarjeta y no tiene descuento?\n",
        "if pago_tarjeta and not tiene_descuento:\n",
        "    print(\"El cliente pagó con tarjeta y no tiene descuento\")\n",
        "else:\n",
        "    print(\"El cliente no pagó con tarjeta ni tiene descuento\")\n",
        "# - Niega el valor de tiene_descuento.\n",
        "tiene_descuento = not tiene_descuento"
      ],
      "metadata": {
        "colab": {
          "base_uri": "https://localhost:8080/"
        },
        "id": "nUa44j28OMLZ",
        "outputId": "78ee1c25-5ce0-41ef-92be-91c0f5d49033"
      },
      "execution_count": 12,
      "outputs": [
        {
          "output_type": "stream",
          "name": "stdout",
          "text": [
            "El cliente o no pagó con tarjeta o no tiene descuento\n",
            "El cliente pagó con tarjeta o tiene descuento\n",
            "El cliente pagó con tarjeta y no tiene descuento\n"
          ]
        }
      ]
    },
    {
      "cell_type": "code",
      "execution_count": null,
      "metadata": {
        "id": "CZBQu-UVN5QY"
      },
      "outputs": [],
      "source": [
        "##### Parte 5. Integración #####\n",
        "# Redacta un programa en Python que:\n",
        "#  - Solicite al usuario:\n",
        "#    - Edad\n",
        "edadUsuario = int(input(\"Ingrese su edad: \"))\n",
        "#    - Altura\n",
        "alturaUsuario = float(input(\"Ingrese su altura: \"))\n",
        "#    - Monto de una compra\n",
        "montoCompra = float(input(\"Ingrese el monto de su compra: \"))\n",
        "# Muestre en pantalla:\n",
        "# - El tipo de cada dato ingresado.\n",
        "print(type(edadUsuario))\n",
        "print(type(alturaUsuario))\n",
        "print(type(montoCompra))\n",
        "# - Si el usuario es mayor de edad.\n",
        "if edadUsuario >= 18:\n",
        "    print(\"El usuario es mayor de edad\")\n",
        "else:\n",
        "    print(\"El usuario no es mayor de edad\")\n",
        "# - Si la compra excede los $500.\n",
        "if montoCompra > 500:\n",
        "    print(\"La compra excede los $500\")\n",
        "else:\n",
        "    print(\"La compra no excede los $500\")\n",
        "# - Si el usuario es mayor de edad y su compra excede $500.\n",
        "if edadUsuario >= 18 and montoCompra > 500:\n",
        "    print(\"El usuario es mayor de edad y su compra excede los $500\")\n",
        "else:\n",
        "    print(\"El usuario no es mayor de edad y/o su compra no excede los $500\")"
      ]
    },
    {
      "cell_type": "code",
      "source": [
        "edad: int = 18\n",
        "edad_mitad = edad/2\n",
        "potencia = edad_mitad **3\n",
        "division = potencia / 3\n",
        "parte_entera = division // 3\n",
        "parte_residuo = division % 3\n",
        "print(parte_entera)\n",
        "print(parte_residuo)"
      ],
      "metadata": {
        "colab": {
          "base_uri": "https://localhost:8080/"
        },
        "id": "losSRgYQUwAk",
        "outputId": "25150cb6-5690-4cbb-91b1-140430f140be"
      },
      "execution_count": 13,
      "outputs": [
        {
          "output_type": "stream",
          "name": "stdout",
          "text": [
            "81.0\n",
            "0.0\n"
          ]
        }
      ]
    }
  ]
}