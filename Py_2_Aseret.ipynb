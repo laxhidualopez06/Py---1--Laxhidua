{
  "nbformat": 4,
  "nbformat_minor": 0,
  "metadata": {
    "colab": {
      "provenance": [],
      "authorship_tag": "ABX9TyN742rF5R0TQIyF8ajuqUXQ",
      "include_colab_link": true
    },
    "kernelspec": {
      "name": "python3",
      "display_name": "Python 3"
    },
    "language_info": {
      "name": "python"
    }
  },
  "cells": [
    {
      "cell_type": "markdown",
      "metadata": {
        "id": "view-in-github",
        "colab_type": "text"
      },
      "source": [
        "<a href=\"https://colab.research.google.com/github/laxhidualopez06/Py---1--Laxhidua/blob/main/Py_2_Aseret.ipynb\" target=\"_parent\"><img src=\"https://colab.research.google.com/assets/colab-badge.svg\" alt=\"Open In Colab\"/></a>"
      ]
    },
    {
      "cell_type": "code",
      "source": [
        "## Práctica de Analítica de Datos: Tipos y Operaciones Básicas\n",
        "\n",
        "# Objetivo: Consolidar el conocimiento sobre los tipos de datos (numéricos, cadenas, booleanos), y aplicar operaciones aritméticas,\n",
        "# relacionales y lógicas para resolver problemas de análisis de datos sencillos.\n",
        "\n",
        "###### Parte 1. Tipos de datos ######\n",
        "\n",
        "# Define tres variables:\n",
        "# - Un número entero (int) con tu edad.\n",
        "edad: int = 19\n",
        "# - Un número decimal (float) con tu altura en metros.\n",
        "miAltura: float = 1.58\n",
        "# - Una cadena de texto (str) con tu nombre completo.\n",
        "nombre: str = \"Aseret\"\n",
        "# Pregunta: ¿qué función en Python permite conocer el tipo de dato de una variable? Úsala para mostrar los resultados.\n",
        "print(type(edad))\n",
        "print(type(miAltura))\n",
        "print(type(nombre))\n"
      ],
      "metadata": {
        "colab": {
          "base_uri": "https://localhost:8080/"
        },
        "id": "CYihoAzYObLQ",
        "outputId": "5bba9086-183f-4dd8-b5a6-2ed87767dcf4"
      },
      "execution_count": 4,
      "outputs": [
        {
          "output_type": "stream",
          "name": "stdout",
          "text": [
            "<class 'int'>\n",
            "<class 'float'>\n",
            "<class 'str'>\n"
          ]
        }
      ]
    },
    {
      "cell_type": "code",
      "source": [
        "###### Parte 2. Operaciones aritméticas ######\n",
        "\n",
        "# Supón que compras 3 productos con precios: 125.50, 89.99 y 39.75.\n",
        "# - Calcula el total de la compra.\n",
        "totalCompra = 125.50 + 89.99 + 39.75\n",
        "\n",
        "# - Aplica un descuento del 15%.\n",
        "descuento = 0.15\n",
        "totalDescuento = totalCompra * (1 - descuento)\n",
        "# - Calcula el IVA del 16% sobre el precio con descuento.\n",
        "iva = 0.16\n",
        "totalIva = totalDescuento * (1 + iva)\n",
        "# - Obtén el total final a pagar.\n",
        "totalFinal = totalIva\n",
        "\n",
        "# ¿Qué operador usarías para obtener el residuo de dividir 125 entre 12?\n",
        "# Escríbelo y ejecútalo en código.\n",
        "residuo = 125 % 12\n",
        "print(residuo)"
      ],
      "metadata": {
        "colab": {
          "base_uri": "https://localhost:8080/"
        },
        "id": "p5myVbaROW-B",
        "outputId": "9f48871d-f953-46d4-b543-be2e1f613af9"
      },
      "execution_count": 9,
      "outputs": [
        {
          "output_type": "stream",
          "name": "stdout",
          "text": [
            "5\n"
          ]
        }
      ]
    },
    {
      "cell_type": "code",
      "source": [
        "###### Parte 3. Operaciones relacionales ######\n",
        "\n",
        "# Con los datos anteriores:\n",
        "# - Verifica si tu edad es mayor a 18.\n",
        "if edad > 18:\n",
        "    print(\"La edad es mayor a 18\")\n",
        "else:\n",
        "    print(\"La edad es menor a 18\")\n",
        "\n",
        "# - Comprueba si el precio más alto es mayor que 100.\n",
        "precios = [125.50, 89.99, 39.75]\n",
        "precio_maximo = max(precios)\n",
        "if precio_maximo > 100:\n",
        "    print(\"El precio más alto es mayor a 100\")\n",
        "else:\n",
        "    print(\"El precio más alto no es mayor a 100\")\n",
        "\n",
        "# - Evalúa si el total final de la compra es menor o igual a 200.\n",
        "if totalFinal <= 200:\n",
        "    print(\"El total final es menor o igual a 200\")\n",
        "else:\n",
        "    print(\"El total final es mayor a 200\")"
      ],
      "metadata": {
        "colab": {
          "base_uri": "https://localhost:8080/"
        },
        "id": "Nt_ajoeQORrC",
        "outputId": "405168c8-ea21-41ff-8d06-211a65b313b9"
      },
      "execution_count": 6,
      "outputs": [
        {
          "output_type": "stream",
          "name": "stdout",
          "text": [
            "La edad es mayor a 18\n",
            "El precio más alto es mayor a 100\n",
            "El total final es mayor a 200\n"
          ]
        }
      ]
    },
    {
      "cell_type": "code",
      "source": [
        "###### Parte 4. Operaciones lógicas ######\n",
        "\n",
        "# Crea dos variables booleanas:\n",
        "# - pago_tarjeta = True\n",
        "pago_tarjeta = True\n",
        "# - tiene_descuento = False\n",
        "tiene_descuento = False\n",
        "# - Evalúa las siguientes expresiones:\n",
        "### - ¿El cliente pagó con tarjeta y tiene descuento?\n",
        "if pago_tarjeta and tiene_descuento:\n",
        "    print(\"El cliente pagó con tarjeta y tiene descuento\")\n",
        "else:\n",
        "    print(\"El cliente no pagó con tarjeta o no tiene descuento\")\n",
        "\n",
        "### - ¿El cliente pagó con tarjeta o tiene descuento?\n",
        "if pago_tarjeta or tiene_descuento:\n",
        "    print(\"El cliente pagó con tarjeta o tiene descuento\")\n",
        "else:\n",
        "    print(\"El cliente no pagó con tarjeta ni tiene descuento\")\n",
        "\n",
        "### - ¿El cliente pagó con tarjeta y no tiene descuento?\n",
        "if pago_tarjeta and not tiene_descuento:\n",
        "    print(\"El cliente pagó con tarjeta y no tiene descuento\")\n",
        "else:\n",
        "    print(\"El cliente no pagó con tarjeta ni tiene descuento\")\n",
        "# - Niega el valor de tiene_descuento.\n",
        "tiene_descuento = not tiene_descuento"
      ],
      "metadata": {
        "colab": {
          "base_uri": "https://localhost:8080/"
        },
        "id": "nUa44j28OMLZ",
        "outputId": "0b002afc-992f-4827-cf8f-6ed80be8885e"
      },
      "execution_count": 7,
      "outputs": [
        {
          "output_type": "stream",
          "name": "stdout",
          "text": [
            "El cliente no pagó con tarjeta o no tiene descuento\n",
            "El cliente pagó con tarjeta o tiene descuento\n",
            "El cliente pagó con tarjeta y no tiene descuento\n"
          ]
        }
      ]
    },
    {
      "cell_type": "code",
      "execution_count": 8,
      "metadata": {
        "colab": {
          "base_uri": "https://localhost:8080/"
        },
        "id": "CZBQu-UVN5QY",
        "outputId": "c3345316-08cc-48ff-9d83-d045c87c326b"
      },
      "outputs": [
        {
          "output_type": "stream",
          "name": "stdout",
          "text": [
            "Ingrese su edad: 23\n",
            "Ingrese su altura: 1.45\n",
            "Ingrese el monto de su compra: 345\n",
            "<class 'int'>\n",
            "<class 'float'>\n",
            "<class 'float'>\n",
            "El usuario es mayor de edad\n",
            "La compra no excede los $500\n",
            "El usuario no es mayor de edad y/o su compra no excede los $500\n"
          ]
        }
      ],
      "source": [
        "##### Parte 5. Integración #####\n",
        "# Redacta un programa en Python que:\n",
        "#  - Solicite al usuario:\n",
        "#    - Edad\n",
        "edadUsuario = int(input(\"Ingrese su edad: \"))\n",
        "#    - Altura\n",
        "alturaUsuario = float(input(\"Ingrese su altura: \"))\n",
        "#    - Monto de una compra\n",
        "montoCompra = float(input(\"Ingrese el monto de su compra: \"))\n",
        "# Muestre en pantalla:\n",
        "# - El tipo de cada dato ingresado.\n",
        "print(type(edadUsuario))\n",
        "print(type(alturaUsuario))\n",
        "print(type(montoCompra))\n",
        "# - Si el usuario es mayor de edad.\n",
        "if edadUsuario >= 18:\n",
        "    print(\"El usuario es mayor de edad\")\n",
        "else:\n",
        "    print(\"El usuario no es mayor de edad\")\n",
        "# - Si la compra excede los $500.\n",
        "if montoCompra > 500:\n",
        "    print(\"La compra excede los $500\")\n",
        "else:\n",
        "    print(\"La compra no excede los $500\")\n",
        "# - Si el usuario es mayor de edad y su compra excede $500.\n",
        "if edadUsuario >= 18 and montoCompra > 500:\n",
        "    print(\"El usuario es mayor de edad y su compra excede los $500\")\n",
        "else:\n",
        "    print(\"El usuario no es mayor de edad y/o su compra no excede los $500\")"
      ]
    }
  ]
}